{
 "cells": [
  {
   "cell_type": "code",
   "execution_count": 47,
   "metadata": {},
   "outputs": [
    {
     "data": {
      "text/plain": [
       "Index(['Unnamed: 0', 'ID', 'Name', 'Age', 'Photo', 'Nationality', 'Flag',\n",
       "       'Overall', 'Potential', 'Club', 'Club Logo', 'Value', 'Wage', 'Special',\n",
       "       'Preferred Foot', 'International Reputation', 'Weak Foot',\n",
       "       'Skill Moves', 'Work Rate', 'Body Type', 'Real Face', 'Position',\n",
       "       'Jersey Number', 'Joined', 'Loaned From', 'Contract Valid Until',\n",
       "       'Height', 'Weight', 'LS', 'ST', 'RS', 'LW', 'LF', 'CF', 'RF', 'RW',\n",
       "       'LAM', 'CAM', 'RAM', 'LM', 'LCM', 'CM', 'RCM', 'RM', 'LWB', 'LDM',\n",
       "       'CDM', 'RDM', 'RWB', 'LB', 'LCB', 'CB', 'RCB', 'RB', 'Crossing',\n",
       "       'Finishing', 'HeadingAccuracy', 'ShortPassing', 'Volleys', 'Dribbling',\n",
       "       'Curve', 'FKAccuracy', 'LongPassing', 'BallControl', 'Acceleration',\n",
       "       'SprintSpeed', 'Agility', 'Reactions', 'Balance', 'ShotPower',\n",
       "       'Jumping', 'Stamina', 'Strength', 'LongShots', 'Aggression',\n",
       "       'Interceptions', 'Positioning', 'Vision', 'Penalties', 'Composure',\n",
       "       'Marking', 'StandingTackle', 'SlidingTackle', 'GKDiving', 'GKHandling',\n",
       "       'GKKicking', 'GKPositioning', 'GKReflexes', 'Release Clause'],\n",
       "      dtype='object')"
      ]
     },
     "execution_count": 47,
     "metadata": {},
     "output_type": "execute_result"
    }
   ],
   "source": [
    "import pandas as pd\n",
    "from sklearn.tree import DecisionTreeRegressor\n",
    "from sklearn.metrics import mean_absolute_error\n",
    "from sklearn.model_selection import train_test_split\n",
    "import matplotlib.pyplot as plt\n",
    "import numpy as np\n",
    "\n",
    "import plotly\n",
    "import plotly.plotly as py\n",
    "import plotly.graph_objs as go\n",
    "from plotly.offline import iplot, init_notebook_mode\n",
    "import cufflinks\n",
    "import time\n",
    "\n",
    "cufflinks.go_offline()\n",
    "cufflinks.set_config_file(world_readable=True, theme='pearl', offline=True)\n",
    "plotly.tools.set_credentials_file(username='axeloh', api_key='kLkm2t8VdedIzM8CdwZF')\n",
    "\n",
    "import warnings\n",
    "warnings.simplefilter(action='ignore', category=FutureWarning)\n",
    "\n",
    "players = pd.read_csv('../datasets/fifa19_complete_player_dataset.csv')\n",
    "players.head()\n",
    "players.columns"
   ]
  },
  {
   "cell_type": "code",
   "execution_count": 20,
   "metadata": {},
   "outputs": [
    {
     "name": "stdout",
     "output_type": "stream",
     "text": [
      "['Age', 'Overall', 'Potential', 'Special', 'International Reputation', 'Skill Moves', 'ShortPassing', 'Curve', 'LongPassing', 'BallControl', 'Reactions', 'ShotPower', 'LongShots', 'Vision', 'Composure']\n"
     ]
    }
   ],
   "source": [
    "# Check what features correlates the most to Overall\n",
    "correlations = players.corr().Overall\n",
    "features = correlations.axes[0]\n",
    "corrs = correlations.values\n",
    "\n",
    "# Extracting every feature that correlates more than 50 %\n",
    "interesting_features = []\n",
    "for i in range(len(corrs)):\n",
    "     if corrs[i] > 0.4:\n",
    "            interesting_features.append(features[i])\n",
    "print(interesting_features)"
   ]
  },
  {
   "cell_type": "code",
   "execution_count": 21,
   "metadata": {},
   "outputs": [
    {
     "name": "stdout",
     "output_type": "stream",
     "text": [
      "Number of rows before dropping NaN-rows: \n",
      " 18207\n",
      "Number of rows after dropping NaN-rows: \n",
      " 18159\n"
     ]
    },
    {
     "data": {
      "text/html": [
       "<div>\n",
       "<style scoped>\n",
       "    .dataframe tbody tr th:only-of-type {\n",
       "        vertical-align: middle;\n",
       "    }\n",
       "\n",
       "    .dataframe tbody tr th {\n",
       "        vertical-align: top;\n",
       "    }\n",
       "\n",
       "    .dataframe thead th {\n",
       "        text-align: right;\n",
       "    }\n",
       "</style>\n",
       "<table border=\"1\" class=\"dataframe\">\n",
       "  <thead>\n",
       "    <tr style=\"text-align: right;\">\n",
       "      <th></th>\n",
       "      <th>Age</th>\n",
       "      <th>Potential</th>\n",
       "      <th>Special</th>\n",
       "      <th>International Reputation</th>\n",
       "      <th>Skill Moves</th>\n",
       "      <th>ShortPassing</th>\n",
       "      <th>Curve</th>\n",
       "      <th>LongPassing</th>\n",
       "      <th>BallControl</th>\n",
       "      <th>Reactions</th>\n",
       "      <th>ShotPower</th>\n",
       "      <th>LongShots</th>\n",
       "      <th>Vision</th>\n",
       "      <th>Composure</th>\n",
       "    </tr>\n",
       "  </thead>\n",
       "  <tbody>\n",
       "    <tr>\n",
       "      <th>0</th>\n",
       "      <td>31</td>\n",
       "      <td>94</td>\n",
       "      <td>2202</td>\n",
       "      <td>5.0</td>\n",
       "      <td>4.0</td>\n",
       "      <td>90.0</td>\n",
       "      <td>93.0</td>\n",
       "      <td>87.0</td>\n",
       "      <td>96.0</td>\n",
       "      <td>95.0</td>\n",
       "      <td>85.0</td>\n",
       "      <td>94.0</td>\n",
       "      <td>94.0</td>\n",
       "      <td>96.0</td>\n",
       "    </tr>\n",
       "    <tr>\n",
       "      <th>1</th>\n",
       "      <td>33</td>\n",
       "      <td>94</td>\n",
       "      <td>2228</td>\n",
       "      <td>5.0</td>\n",
       "      <td>5.0</td>\n",
       "      <td>81.0</td>\n",
       "      <td>81.0</td>\n",
       "      <td>77.0</td>\n",
       "      <td>94.0</td>\n",
       "      <td>96.0</td>\n",
       "      <td>95.0</td>\n",
       "      <td>93.0</td>\n",
       "      <td>82.0</td>\n",
       "      <td>95.0</td>\n",
       "    </tr>\n",
       "    <tr>\n",
       "      <th>2</th>\n",
       "      <td>26</td>\n",
       "      <td>93</td>\n",
       "      <td>2143</td>\n",
       "      <td>5.0</td>\n",
       "      <td>5.0</td>\n",
       "      <td>84.0</td>\n",
       "      <td>88.0</td>\n",
       "      <td>78.0</td>\n",
       "      <td>95.0</td>\n",
       "      <td>94.0</td>\n",
       "      <td>80.0</td>\n",
       "      <td>82.0</td>\n",
       "      <td>87.0</td>\n",
       "      <td>94.0</td>\n",
       "    </tr>\n",
       "    <tr>\n",
       "      <th>3</th>\n",
       "      <td>27</td>\n",
       "      <td>93</td>\n",
       "      <td>1471</td>\n",
       "      <td>4.0</td>\n",
       "      <td>1.0</td>\n",
       "      <td>50.0</td>\n",
       "      <td>21.0</td>\n",
       "      <td>51.0</td>\n",
       "      <td>42.0</td>\n",
       "      <td>90.0</td>\n",
       "      <td>31.0</td>\n",
       "      <td>12.0</td>\n",
       "      <td>68.0</td>\n",
       "      <td>68.0</td>\n",
       "    </tr>\n",
       "    <tr>\n",
       "      <th>4</th>\n",
       "      <td>27</td>\n",
       "      <td>92</td>\n",
       "      <td>2281</td>\n",
       "      <td>4.0</td>\n",
       "      <td>4.0</td>\n",
       "      <td>92.0</td>\n",
       "      <td>85.0</td>\n",
       "      <td>91.0</td>\n",
       "      <td>91.0</td>\n",
       "      <td>91.0</td>\n",
       "      <td>91.0</td>\n",
       "      <td>91.0</td>\n",
       "      <td>94.0</td>\n",
       "      <td>88.0</td>\n",
       "    </tr>\n",
       "  </tbody>\n",
       "</table>\n",
       "</div>"
      ],
      "text/plain": [
       "   Age  Potential  Special  International Reputation  Skill Moves  \\\n",
       "0   31         94     2202                       5.0          4.0   \n",
       "1   33         94     2228                       5.0          5.0   \n",
       "2   26         93     2143                       5.0          5.0   \n",
       "3   27         93     1471                       4.0          1.0   \n",
       "4   27         92     2281                       4.0          4.0   \n",
       "\n",
       "   ShortPassing  Curve  LongPassing  BallControl  Reactions  ShotPower  \\\n",
       "0          90.0   93.0         87.0         96.0       95.0       85.0   \n",
       "1          81.0   81.0         77.0         94.0       96.0       95.0   \n",
       "2          84.0   88.0         78.0         95.0       94.0       80.0   \n",
       "3          50.0   21.0         51.0         42.0       90.0       31.0   \n",
       "4          92.0   85.0         91.0         91.0       91.0       91.0   \n",
       "\n",
       "   LongShots  Vision  Composure  \n",
       "0       94.0    94.0       96.0  \n",
       "1       93.0    82.0       95.0  \n",
       "2       82.0    87.0       94.0  \n",
       "3       12.0    68.0       68.0  \n",
       "4       91.0    94.0       88.0  "
      ]
     },
     "execution_count": 21,
     "metadata": {},
     "output_type": "execute_result"
    }
   ],
   "source": [
    "\n",
    "# Only cares about those interesting features\n",
    "X = players[interesting_features]\n",
    "\n",
    "#print('Rows with one or more NaN-values: \\n', players.isnull().sum())\n",
    "print('Number of rows before dropping NaN-rows: \\n', X.shape[0])\n",
    "X = X.dropna()\n",
    "print('Number of rows after dropping NaN-rows: \\n', X.shape[0])\n",
    "#print('Rows with one or more NaN-values: \\n', players.isnull().sum())\n",
    "\n",
    "y = X.Overall # Target\n",
    "# Remove target from data\n",
    "X = X.drop(columns=['Overall'])\n",
    "X.head()"
   ]
  },
  {
   "cell_type": "code",
   "execution_count": 22,
   "metadata": {},
   "outputs": [],
   "source": [
    "train_X, test_X, train_y, test_y = train_test_split(X, y)"
   ]
  },
  {
   "cell_type": "code",
   "execution_count": 23,
   "metadata": {},
   "outputs": [
    {
     "name": "stdout",
     "output_type": "stream",
     "text": [
      "[ 57.  59.  65.  61.  70.  71.  55.  57.  59.  51.]\n",
      "[57 58 65 61 70 65 53 60 60 54]\n",
      "1.24449339207\n"
     ]
    }
   ],
   "source": [
    "dt = DecisionTreeRegressor()\n",
    "dt.fit(train_X, train_y)\n",
    "preds = dt.predict(test_X)\n",
    "print(preds[:10])\n",
    "print(test_y[:10].values)\n",
    "print(mean_absolute_error(test_y, preds))"
   ]
  },
  {
   "cell_type": "code",
   "execution_count": 24,
   "metadata": {},
   "outputs": [],
   "source": [
    "def get_mae(max_leaf_nodes, train_X, test_X, train_y, test_y):\n",
    "    model = DecisionTreeRegressor(max_leaf_nodes=max_leaf_nodes)\n",
    "    model.fit(train_X, train_y)\n",
    "    train_preds = model.predict(train_X)\n",
    "    train_mae = mean_absolute_error(train_y, train_preds)\n",
    "    test_preds = model.predict(test_X)\n",
    "    test_mae = mean_absolute_error(test_y, test_preds)\n",
    "    return train_mae, test_mae"
   ]
  },
  {
   "cell_type": "code",
   "execution_count": 25,
   "metadata": {},
   "outputs": [
    {
     "data": {
      "image/png": "[encoded data removed]",
      "text/plain": [
       "<Figure size 432x288 with 1 Axes>"
      ]
     },
     "metadata": {
      "needs_background": "light"
     },
     "output_type": "display_data"
    }
   ],
   "source": [
    "nodes = [i for i in range(2, 1000, 3)]\n",
    "train_maes = []\n",
    "test_maes = []\n",
    "for max_leaf_nodes in range(2, 1000, 3):\n",
    "    maes = get_mae(max_leaf_nodes, train_X, test_X, train_y, test_y)\n",
    "    train_mae = maes[0]\n",
    "    test_mae = maes[1]\n",
    "    train_maes.append(train_mae)\n",
    "    test_maes.append(test_mae)\n",
    "    #print(\"Max leaf nodes: %d  \\t\\t Mean Absolute Error:  %f\" %(max_leaf_nodes, test_mae))\n",
    "plt.plot(nodes, train_maes, label='train')\n",
    "plt.plot(nodes, test_maes, label='test')\n",
    "plt.xlabel('Max_leaf_nodes')\n",
    "plt.ylabel('MAE')\n",
    "plt.legend(loc='upper right')\n",
    "plt.show()"
   ]
  },
  {
   "cell_type": "code",
   "execution_count": 26,
   "metadata": {},
   "outputs": [
    {
     "data": {
      "text/plain": [
       "DecisionTreeRegressor(criterion='mse', max_depth=None, max_features=None,\n",
       "           max_leaf_nodes=490, min_impurity_decrease=0.0,\n",
       "           min_impurity_split=None, min_samples_leaf=1,\n",
       "           min_samples_split=2, min_weight_fraction_leaf=0.0,\n",
       "           presort=False, random_state=None, splitter='best')"
      ]
     },
     "execution_count": 26,
     "metadata": {},
     "output_type": "execute_result"
    }
   ],
   "source": [
    "final_model = DecisionTreeRegressor(max_leaf_nodes = 490)\n",
    "final_model.fit(train_X, train_y)"
   ]
  },
  {
   "cell_type": "code",
   "execution_count": 27,
   "metadata": {},
   "outputs": [
    {
     "name": "stdout",
     "output_type": "stream",
     "text": [
      "1.16877323612\n"
     ]
    }
   ],
   "source": [
    "preds = final_model.predict(test_X)\n",
    "print(mean_absolute_error(preds, test_y))\n",
    "\n",
    "#test_X['Prediction_Overall'] = final_model.predict(test_X)\n",
    "# test_X['Actual_Overall'] = test_y.values"
   ]
  },
  {
   "cell_type": "code",
   "execution_count": 28,
   "metadata": {},
   "outputs": [
    {
     "data": {
      "text/plain": [
       "array([ 60.24390244,  58.66      ,  64.88461538,  61.66176471,  69.87068966])"
      ]
     },
     "execution_count": 28,
     "metadata": {},
     "output_type": "execute_result"
    }
   ],
   "source": [
    "preds[:5]"
   ]
  },
  {
   "cell_type": "code",
   "execution_count": 29,
   "metadata": {},
   "outputs": [
    {
     "data": {
      "text/plain": [
       "16420    57\n",
       "16035    58\n",
       "10552    65\n",
       "14086    61\n",
       "5357     70\n",
       "Name: Overall, dtype: int64"
      ]
     },
     "execution_count": 29,
     "metadata": {},
     "output_type": "execute_result"
    }
   ],
   "source": [
    "test_y.head()"
   ]
  },
  {
   "cell_type": "code",
   "execution_count": 35,
   "metadata": {},
   "outputs": [],
   "source": [
    "import random\n",
    "\n",
    "# Creating a Random Forest Tree (multiple Decision Trees)\n",
    "class myRandomForestTree:\n",
    "    \n",
    "    def __init__(self, number_of_trees, max_leaf_nodes_trees):\n",
    "        self.number_of_trees = number_of_trees\n",
    "        self.max_leaf_nodes_trees = max_leaf_nodes_trees\n",
    "        self.trees = []\n",
    "        \n",
    "    def create_trees(self, train_X, train_y, test_X):\n",
    "        for i in range(self.number_of_trees):\n",
    "            decision_tree = DecisionTreeRegressor(max_leaf_nodes=self.max_leaf_nodes_trees)\n",
    "            decision_tree.fit(train_X, train_y)\n",
    "            predictions = decision_tree.predict(test_X)\n",
    "            self.trees.append(predictions)\n",
    "        \n",
    "    def getPredictions(self):\n",
    "        predictions = []\n",
    "        for i in range(len(self.trees[0])):\n",
    "            sum = 0\n",
    "            for t in self.trees:\n",
    "                pred = t[i]\n",
    "                sum += pred\n",
    "            prediction = sum / len(self.trees) # mean\n",
    "            predictions.append(prediction)\n",
    "        return predictions\n",
    "            "
   ]
  },
  {
   "cell_type": "code",
   "execution_count": 36,
   "metadata": {},
   "outputs": [],
   "source": [
    "rft = myRandomForestTree(100, 490)\n",
    "rft.create_trees(train_X, train_y, test_X)\n",
    "print(\"MAE with my own Random Forest Tree: \", mean_absolute_error(rft_preds, test_y))"
   ]
  },
  {
   "cell_type": "code",
   "execution_count": 92,
   "metadata": {},
   "outputs": [
    {
     "name": "stdout",
     "output_type": "stream",
     "text": [
      "MAE with default sklearn Random Forest Tree:  0.918171806167\n"
     ]
    }
   ],
   "source": [
    "# Creating a RFT using sklearn\n",
    "from sklearn.ensemble import RandomForestRegressor\n",
    "rf_model = RandomForestRegressor()\n",
    "rf_model.fit(train_X, train_y)\n",
    "rf_model_preds = rf_model.predict(test_X)\n",
    "print(\"MAE with default sklearn Random Forest Tree: \", mean_absolute_error(rf_model_preds, test_y))"
   ]
  },
  {
   "cell_type": "code",
   "execution_count": 75,
   "metadata": {},
   "outputs": [
    {
     "name": "stdout",
     "output_type": "stream",
     "text": [
      "Parameters currently in use:\n",
      "\n",
      "{'bootstrap': True, 'criterion': 'mse', 'max_depth': 105, 'max_features': 'auto', 'max_leaf_nodes': None, 'min_impurity_decrease': 0.0, 'min_impurity_split': None, 'min_samples_leaf': 1, 'min_samples_split': 2, 'min_weight_fraction_leaf': 0.0, 'n_estimators': 10, 'n_jobs': None, 'oob_score': False, 'random_state': None, 'verbose': 0, 'warm_start': False}\n"
     ]
    }
   ],
   "source": [
    "#Look at parameters used by our current forest\n",
    "print('Parameters currently in use:\\n')\n",
    "print(rf_model.get_params())"
   ]
  },
  {
   "cell_type": "code",
   "execution_count": 77,
   "metadata": {},
   "outputs": [],
   "source": [
    "# Finds the optimal value for parameter max_depth and n_estimators\n",
    "train_preds = []\n",
    "test_preds = []\n",
    "\n",
    "for i in range (10, 110, 5):\n",
    "    rf_model = RandomForestRegressor(n_estimators = i)\n",
    "    rf_model.fit(train_X, train_y)\n",
    "    rf_model_preds1 = rf_model.predict(train_X)\n",
    "    train_preds.append(mean_absolute_error(rf_model_preds1, train_y))\n",
    "    rf_model_preds2 = rf_model.predict(test_X)\n",
    "    test_preds.append(mean_absolute_error(rf_model_preds2, test_y))\n",
    "    #print(\"MAE with {} nodes: {}\".format(i, mean_absolute_error(rf_model_preds, test_y)))\n",
    "    "
   ]
  },
  {
   "cell_type": "code",
   "execution_count": 78,
   "metadata": {},
   "outputs": [
    {
     "data": {
      "application/vnd.plotly.v1+json": {
       "config": {
        "linkText": "Export to plot.ly",
        "plotlyServerURL": "https://plot.ly",
        "showLink": true
       },
       "data": [
        {
         "line": {
          "color": "rgba(255, 153, 51, 1.0)",
          "dash": "solid",
          "shape": "linear",
          "width": 1.3
         },
         "mode": "lines",
         "name": "train",
         "text": "",
         "type": "scatter",
         "uid": "6487629b-be7e-49a7-9b88-b6e015e71c2b",
         "x": [
          10,
          15,
          20,
          25,
          30,
          35,
          40,
          45,
          50,
          55,
          60,
          65,
          70,
          75,
          80,
          85,
          90,
          95,
          100,
          105
         ],
         "y": [
          0.3762904765401277,
          0.3572117385025825,
          0.3486342609589542,
          0.339032234378442,
          0.340759233423893,
          0.3377634187532129,
          0.33710808429400124,
          0.3309853064754313,
          0.33225640649093185,
          0.32944349137902224,
          0.33225273514942333,
          0.33191977271572026,
          0.32721827698698275,
          0.3291421298675871,
          0.32737444012042016,
          0.32780155751264534,
          0.32574344665540794,
          0.32544626122174525,
          0.32763565606872763,
          0.3244570785212543
         ]
        },
        {
         "line": {
          "color": "rgba(55, 128, 191, 1.0)",
          "dash": "solid",
          "shape": "linear",
          "width": 1.3
         },
         "mode": "lines",
         "name": "test",
         "text": "",
         "type": "scatter",
         "uid": "74902cf1-3d9b-4ca3-8086-ea6498a89806",
         "x": [
          10,
          15,
          20,
          25,
          30,
          35,
          40,
          45,
          50,
          55,
          60,
          65,
          70,
          75,
          80,
          85,
          90,
          95,
          100,
          105
         ],
         "y": [
          0.922202643171806,
          0.9034214390602057,
          0.8856718061674006,
          0.8864845814977975,
          0.879691629955947,
          0.8852359974826938,
          0.8770980176211455,
          0.8729270680372007,
          0.8714977973568283,
          0.8700680816980374,
          0.8724486049926575,
          0.8678617417824469,
          0.8728886091881688,
          0.8676064610866375,
          0.8711205947136565,
          0.8660585643949215,
          0.8693294175232501,
          0.8694644099234872,
          0.8679339207048459,
          0.8653178099433612
         ]
        }
       ],
       "layout": {
        "legend": {
         "bgcolor": "#F5F6F9",
         "font": {
          "color": "#4D5663"
         }
        },
        "paper_bgcolor": "#F5F6F9",
        "plot_bgcolor": "#F5F6F9",
        "title": {
         "font": {
          "color": "#4D5663"
         }
        },
        "xaxis": {
         "gridcolor": "#E1E5ED",
         "showgrid": true,
         "tickfont": {
          "color": "#4D5663"
         },
         "title": {
          "font": {
           "color": "#4D5663"
          },
          "text": "# Number of Trees"
         },
         "zerolinecolor": "#E1E5ED"
        },
        "yaxis": {
         "gridcolor": "#E1E5ED",
         "showgrid": true,
         "tickfont": {
          "color": "#4D5663"
         },
         "title": {
          "font": {
           "color": "#4D5663"
          },
          "text": "MSE"
         },
         "zerolinecolor": "#E1E5ED"
        }
       }
      },
      "text/html": [
       "<div id=\"0cf8d966-b0db-4ed8-ac9f-f11a17a1e89a\" style=\"height: 525px; width: 100%;\" class=\"plotly-graph-div\"></div><script type=\"text/javascript\">require([\"plotly\"], function(Plotly) { window.PLOTLYENV=window.PLOTLYENV || {};window.PLOTLYENV.BASE_URL=\"https://plot.ly\";\n",
       "if (document.getElementById(\"0cf8d966-b0db-4ed8-ac9f-f11a17a1e89a\")) {\n",
       "    Plotly.newPlot(\"0cf8d966-b0db-4ed8-ac9f-f11a17a1e89a\", [{\"line\": {\"color\": \"rgba(255, 153, 51, 1.0)\", \"dash\": \"solid\", \"shape\": \"linear\", \"width\": 1.3}, \"mode\": \"lines\", \"name\": \"train\", \"text\": \"\", \"x\": [10, 15, 20, 25, 30, 35, 40, 45, 50, 55, 60, 65, 70, 75, 80, 85, 90, 95, 100, 105], \"y\": [0.3762904765401277, 0.3572117385025825, 0.3486342609589542, 0.339032234378442, 0.340759233423893, 0.3377634187532129, 0.33710808429400124, 0.3309853064754313, 0.33225640649093185, 0.32944349137902224, 0.33225273514942333, 0.33191977271572026, 0.32721827698698275, 0.3291421298675871, 0.32737444012042016, 0.32780155751264534, 0.32574344665540794, 0.32544626122174525, 0.32763565606872763, 0.3244570785212543], \"type\": \"scatter\", \"uid\": \"8b0718a2-2cff-4c6e-917d-4e07536ca276\"}, {\"line\": {\"color\": \"rgba(55, 128, 191, 1.0)\", \"dash\": \"solid\", \"shape\": \"linear\", \"width\": 1.3}, \"mode\": \"lines\", \"name\": \"test\", \"text\": \"\", \"x\": [10, 15, 20, 25, 30, 35, 40, 45, 50, 55, 60, 65, 70, 75, 80, 85, 90, 95, 100, 105], \"y\": [0.922202643171806, 0.9034214390602057, 0.8856718061674006, 0.8864845814977975, 0.879691629955947, 0.8852359974826938, 0.8770980176211455, 0.8729270680372007, 0.8714977973568283, 0.8700680816980374, 0.8724486049926575, 0.8678617417824469, 0.8728886091881688, 0.8676064610866375, 0.8711205947136565, 0.8660585643949215, 0.8693294175232501, 0.8694644099234872, 0.8679339207048459, 0.8653178099433612], \"type\": \"scatter\", \"uid\": \"afc61327-dd33-4598-96aa-925d48c8bca7\"}], {\"legend\": {\"bgcolor\": \"#F5F6F9\", \"font\": {\"color\": \"#4D5663\"}}, \"paper_bgcolor\": \"#F5F6F9\", \"plot_bgcolor\": \"#F5F6F9\", \"title\": {\"font\": {\"color\": \"#4D5663\"}}, \"xaxis\": {\"gridcolor\": \"#E1E5ED\", \"showgrid\": true, \"tickfont\": {\"color\": \"#4D5663\"}, \"title\": {\"text\": \"# Number of Trees\", \"font\": {\"color\": \"#4D5663\"}}, \"zerolinecolor\": \"#E1E5ED\"}, \"yaxis\": {\"gridcolor\": \"#E1E5ED\", \"showgrid\": true, \"tickfont\": {\"color\": \"#4D5663\"}, \"title\": {\"text\": \"MSE\", \"font\": {\"color\": \"#4D5663\"}}, \"zerolinecolor\": \"#E1E5ED\"}}, {\"showLink\": true, \"linkText\": \"Export to plot.ly\", \"plotlyServerURL\": \"https://plot.ly\"}); \n",
       "}\n",
       "});</script><script type=\"text/javascript\">window.addEventListener(\"resize\", function(){if (document.getElementById(\"0cf8d966-b0db-4ed8-ac9f-f11a17a1e89a\")) {window._Plotly.Plots.resize(document.getElementById(\"0cf8d966-b0db-4ed8-ac9f-f11a17a1e89a\"));};})</script>"
      ],
      "text/vnd.plotly.v1+html": [
       "<div id=\"0cf8d966-b0db-4ed8-ac9f-f11a17a1e89a\" style=\"height: 525px; width: 100%;\" class=\"plotly-graph-div\"></div><script type=\"text/javascript\">require([\"plotly\"], function(Plotly) { window.PLOTLYENV=window.PLOTLYENV || {};window.PLOTLYENV.BASE_URL=\"https://plot.ly\";\n",
       "if (document.getElementById(\"0cf8d966-b0db-4ed8-ac9f-f11a17a1e89a\")) {\n",
       "    Plotly.newPlot(\"0cf8d966-b0db-4ed8-ac9f-f11a17a1e89a\", [{\"line\": {\"color\": \"rgba(255, 153, 51, 1.0)\", \"dash\": \"solid\", \"shape\": \"linear\", \"width\": 1.3}, \"mode\": \"lines\", \"name\": \"train\", \"text\": \"\", \"x\": [10, 15, 20, 25, 30, 35, 40, 45, 50, 55, 60, 65, 70, 75, 80, 85, 90, 95, 100, 105], \"y\": [0.3762904765401277, 0.3572117385025825, 0.3486342609589542, 0.339032234378442, 0.340759233423893, 0.3377634187532129, 0.33710808429400124, 0.3309853064754313, 0.33225640649093185, 0.32944349137902224, 0.33225273514942333, 0.33191977271572026, 0.32721827698698275, 0.3291421298675871, 0.32737444012042016, 0.32780155751264534, 0.32574344665540794, 0.32544626122174525, 0.32763565606872763, 0.3244570785212543], \"type\": \"scatter\", \"uid\": \"8b0718a2-2cff-4c6e-917d-4e07536ca276\"}, {\"line\": {\"color\": \"rgba(55, 128, 191, 1.0)\", \"dash\": \"solid\", \"shape\": \"linear\", \"width\": 1.3}, \"mode\": \"lines\", \"name\": \"test\", \"text\": \"\", \"x\": [10, 15, 20, 25, 30, 35, 40, 45, 50, 55, 60, 65, 70, 75, 80, 85, 90, 95, 100, 105], \"y\": [0.922202643171806, 0.9034214390602057, 0.8856718061674006, 0.8864845814977975, 0.879691629955947, 0.8852359974826938, 0.8770980176211455, 0.8729270680372007, 0.8714977973568283, 0.8700680816980374, 0.8724486049926575, 0.8678617417824469, 0.8728886091881688, 0.8676064610866375, 0.8711205947136565, 0.8660585643949215, 0.8693294175232501, 0.8694644099234872, 0.8679339207048459, 0.8653178099433612], \"type\": \"scatter\", \"uid\": \"afc61327-dd33-4598-96aa-925d48c8bca7\"}], {\"legend\": {\"bgcolor\": \"#F5F6F9\", \"font\": {\"color\": \"#4D5663\"}}, \"paper_bgcolor\": \"#F5F6F9\", \"plot_bgcolor\": \"#F5F6F9\", \"title\": {\"font\": {\"color\": \"#4D5663\"}}, \"xaxis\": {\"gridcolor\": \"#E1E5ED\", \"showgrid\": true, \"tickfont\": {\"color\": \"#4D5663\"}, \"title\": {\"text\": \"# Number of Trees\", \"font\": {\"color\": \"#4D5663\"}}, \"zerolinecolor\": \"#E1E5ED\"}, \"yaxis\": {\"gridcolor\": \"#E1E5ED\", \"showgrid\": true, \"tickfont\": {\"color\": \"#4D5663\"}, \"title\": {\"text\": \"MSE\", \"font\": {\"color\": \"#4D5663\"}}, \"zerolinecolor\": \"#E1E5ED\"}}, {\"showLink\": true, \"linkText\": \"Export to plot.ly\", \"plotlyServerURL\": \"https://plot.ly\"}); \n",
       "}\n",
       "});</script><script type=\"text/javascript\">window.addEventListener(\"resize\", function(){if (document.getElementById(\"0cf8d966-b0db-4ed8-ac9f-f11a17a1e89a\")) {window._Plotly.Plots.resize(document.getElementById(\"0cf8d966-b0db-4ed8-ac9f-f11a17a1e89a\"));};})</script>"
      ]
     },
     "metadata": {},
     "output_type": "display_data"
    }
   ],
   "source": [
    "preds = pd.DataFrame()\n",
    "preds['train'] = train_preds\n",
    "preds['test'] = test_preds\n",
    "preds['Trees'] = [i for i in range(10, 110, 5)]\n",
    "preds = preds.set_index(['Trees'])\n",
    "\n",
    "preds.iplot(xTitle='Number of Trees', yTitle='MSE')"
   ]
  },
  {
   "cell_type": "code",
   "execution_count": 82,
   "metadata": {},
   "outputs": [],
   "source": [
    "train_preds = []\n",
    "test_preds = []\n",
    "\n",
    "for i in range (2, 120, 5):\n",
    "    rf_model = RandomForestRegressor(max_depth = i)\n",
    "    rf_model.fit(train_X, train_y)\n",
    "    rf_model_preds1 = rf_model.predict(train_X)\n",
    "    train_preds.append(mean_absolute_error(rf_model_preds1, train_y))\n",
    "    rf_model_preds2 = rf_model.predict(test_X)\n",
    "    test_preds.append(mean_absolute_error(rf_model_preds2, test_y))\n",
    "    #print(\"MAE with {} nodes: {}\".format(i, mean_absolute_error(rf_model_preds, test_y)))\n",
    "    "
   ]
  },
  {
   "cell_type": "code",
   "execution_count": 83,
   "metadata": {},
   "outputs": [
    {
     "data": {
      "application/vnd.plotly.v1+json": {
       "config": {
        "linkText": "Export to plot.ly",
        "plotlyServerURL": "https://plot.ly",
        "showLink": true
       },
       "data": [
        {
         "line": {
          "color": "rgba(255, 153, 51, 1.0)",
          "dash": "solid",
          "shape": "linear",
          "width": 1.3
         },
         "mode": "lines",
         "name": "train",
         "text": "",
         "type": "scatter",
         "uid": "518db2da-c1fa-4121-b665-a091b8d31b6a",
         "x": [
          2,
          7,
          12,
          17,
          22,
          27,
          32,
          37,
          42,
          47,
          52,
          57,
          62,
          67,
          72,
          77,
          82,
          87,
          92,
          97,
          102,
          107,
          112,
          117
         ],
         "y": [
          3.166391315435167,
          1.150298505139726,
          0.5571561333840793,
          0.38738377199464696,
          0.3767905603831514,
          0.3740509582201335,
          0.37305235332990655,
          0.37432263749173933,
          0.3756222923856375,
          0.37363242528820007,
          0.37499816432924565,
          0.36706806667156155,
          0.37346354357882344,
          0.37483662530288536,
          0.37525515823481875,
          0.3754607533592772,
          0.37040164476099546,
          0.3783831411997942,
          0.3760481680005872,
          0.37683383508333923,
          0.37593068507232524,
          0.3696894045084072,
          0.37584257287612877,
          0.37540201189514627
         ]
        },
        {
         "line": {
          "color": "rgba(55, 128, 191, 1.0)",
          "dash": "solid",
          "shape": "linear",
          "width": 1.3
         },
         "mode": "lines",
         "name": "test",
         "text": "",
         "type": "scatter",
         "uid": "4534af19-8a91-4f55-b1f1-f18e28417520",
         "x": [
          2,
          7,
          12,
          17,
          22,
          27,
          32,
          37,
          42,
          47,
          52,
          57,
          62,
          67,
          72,
          77,
          82,
          87,
          92,
          97,
          102,
          107,
          112,
          117
         ],
         "y": [
          3.1266532742259465,
          1.1942576495675767,
          0.9180743376389193,
          0.9161827961972229,
          0.9269315082861338,
          0.9244273127753303,
          0.913348017621145,
          0.9212995594713654,
          0.9264757709251101,
          0.918612334801762,
          0.9107929515418502,
          0.9105506607929514,
          0.9057268722466958,
          0.9281497797356827,
          0.9298017621145372,
          0.9258370044052862,
          0.9185242290748897,
          0.9239207048458147,
          0.9144493392070482,
          0.9110352422907487,
          0.9281718061674008,
          0.9159691629955945,
          0.918942731277533,
          0.9178414096916298
         ]
        }
       ],
       "layout": {
        "legend": {
         "bgcolor": "#F5F6F9",
         "font": {
          "color": "#4D5663"
         }
        },
        "paper_bgcolor": "#F5F6F9",
        "plot_bgcolor": "#F5F6F9",
        "title": {
         "font": {
          "color": "#4D5663"
         }
        },
        "xaxis": {
         "gridcolor": "#E1E5ED",
         "showgrid": true,
         "tickfont": {
          "color": "#4D5663"
         },
         "title": {
          "font": {
           "color": "#4D5663"
          },
          "text": "# Max depth"
         },
         "zerolinecolor": "#E1E5ED"
        },
        "yaxis": {
         "gridcolor": "#E1E5ED",
         "showgrid": true,
         "tickfont": {
          "color": "#4D5663"
         },
         "title": {
          "font": {
           "color": "#4D5663"
          },
          "text": "MSE"
         },
         "zerolinecolor": "#E1E5ED"
        }
       }
      },
      "text/html": [
       "<div id=\"5ed9ce18-fb77-4478-b0f8-b5aae1b4578b\" style=\"height: 525px; width: 100%;\" class=\"plotly-graph-div\"></div><script type=\"text/javascript\">require([\"plotly\"], function(Plotly) { window.PLOTLYENV=window.PLOTLYENV || {};window.PLOTLYENV.BASE_URL=\"https://plot.ly\";\n",
       "if (document.getElementById(\"5ed9ce18-fb77-4478-b0f8-b5aae1b4578b\")) {\n",
       "    Plotly.newPlot(\"5ed9ce18-fb77-4478-b0f8-b5aae1b4578b\", [{\"line\": {\"color\": \"rgba(255, 153, 51, 1.0)\", \"dash\": \"solid\", \"shape\": \"linear\", \"width\": 1.3}, \"mode\": \"lines\", \"name\": \"train\", \"text\": \"\", \"x\": [2, 7, 12, 17, 22, 27, 32, 37, 42, 47, 52, 57, 62, 67, 72, 77, 82, 87, 92, 97, 102, 107, 112, 117], \"y\": [3.166391315435167, 1.150298505139726, 0.5571561333840793, 0.38738377199464696, 0.3767905603831514, 0.3740509582201335, 0.37305235332990655, 0.37432263749173933, 0.3756222923856375, 0.37363242528820007, 0.37499816432924565, 0.36706806667156155, 0.37346354357882344, 0.37483662530288536, 0.37525515823481875, 0.3754607533592772, 0.37040164476099546, 0.3783831411997942, 0.3760481680005872, 0.37683383508333923, 0.37593068507232524, 0.3696894045084072, 0.37584257287612877, 0.37540201189514627], \"type\": \"scatter\", \"uid\": \"139bba02-c028-49f6-b00b-04e735d92d1b\"}, {\"line\": {\"color\": \"rgba(55, 128, 191, 1.0)\", \"dash\": \"solid\", \"shape\": \"linear\", \"width\": 1.3}, \"mode\": \"lines\", \"name\": \"test\", \"text\": \"\", \"x\": [2, 7, 12, 17, 22, 27, 32, 37, 42, 47, 52, 57, 62, 67, 72, 77, 82, 87, 92, 97, 102, 107, 112, 117], \"y\": [3.1266532742259465, 1.1942576495675767, 0.9180743376389193, 0.9161827961972229, 0.9269315082861338, 0.9244273127753303, 0.913348017621145, 0.9212995594713654, 0.9264757709251101, 0.918612334801762, 0.9107929515418502, 0.9105506607929514, 0.9057268722466958, 0.9281497797356827, 0.9298017621145372, 0.9258370044052862, 0.9185242290748897, 0.9239207048458147, 0.9144493392070482, 0.9110352422907487, 0.9281718061674008, 0.9159691629955945, 0.918942731277533, 0.9178414096916298], \"type\": \"scatter\", \"uid\": \"41ac088d-ff02-480a-9165-4915dfe80cd8\"}], {\"legend\": {\"bgcolor\": \"#F5F6F9\", \"font\": {\"color\": \"#4D5663\"}}, \"paper_bgcolor\": \"#F5F6F9\", \"plot_bgcolor\": \"#F5F6F9\", \"title\": {\"font\": {\"color\": \"#4D5663\"}}, \"xaxis\": {\"gridcolor\": \"#E1E5ED\", \"showgrid\": true, \"tickfont\": {\"color\": \"#4D5663\"}, \"title\": {\"text\": \"# Max depth\", \"font\": {\"color\": \"#4D5663\"}}, \"zerolinecolor\": \"#E1E5ED\"}, \"yaxis\": {\"gridcolor\": \"#E1E5ED\", \"showgrid\": true, \"tickfont\": {\"color\": \"#4D5663\"}, \"title\": {\"text\": \"MSE\", \"font\": {\"color\": \"#4D5663\"}}, \"zerolinecolor\": \"#E1E5ED\"}}, {\"showLink\": true, \"linkText\": \"Export to plot.ly\", \"plotlyServerURL\": \"https://plot.ly\"}); \n",
       "}\n",
       "});</script><script type=\"text/javascript\">window.addEventListener(\"resize\", function(){if (document.getElementById(\"5ed9ce18-fb77-4478-b0f8-b5aae1b4578b\")) {window._Plotly.Plots.resize(document.getElementById(\"5ed9ce18-fb77-4478-b0f8-b5aae1b4578b\"));};})</script>"
      ],
      "text/vnd.plotly.v1+html": [
       "<div id=\"5ed9ce18-fb77-4478-b0f8-b5aae1b4578b\" style=\"height: 525px; width: 100%;\" class=\"plotly-graph-div\"></div><script type=\"text/javascript\">require([\"plotly\"], function(Plotly) { window.PLOTLYENV=window.PLOTLYENV || {};window.PLOTLYENV.BASE_URL=\"https://plot.ly\";\n",
       "if (document.getElementById(\"5ed9ce18-fb77-4478-b0f8-b5aae1b4578b\")) {\n",
       "    Plotly.newPlot(\"5ed9ce18-fb77-4478-b0f8-b5aae1b4578b\", [{\"line\": {\"color\": \"rgba(255, 153, 51, 1.0)\", \"dash\": \"solid\", \"shape\": \"linear\", \"width\": 1.3}, \"mode\": \"lines\", \"name\": \"train\", \"text\": \"\", \"x\": [2, 7, 12, 17, 22, 27, 32, 37, 42, 47, 52, 57, 62, 67, 72, 77, 82, 87, 92, 97, 102, 107, 112, 117], \"y\": [3.166391315435167, 1.150298505139726, 0.5571561333840793, 0.38738377199464696, 0.3767905603831514, 0.3740509582201335, 0.37305235332990655, 0.37432263749173933, 0.3756222923856375, 0.37363242528820007, 0.37499816432924565, 0.36706806667156155, 0.37346354357882344, 0.37483662530288536, 0.37525515823481875, 0.3754607533592772, 0.37040164476099546, 0.3783831411997942, 0.3760481680005872, 0.37683383508333923, 0.37593068507232524, 0.3696894045084072, 0.37584257287612877, 0.37540201189514627], \"type\": \"scatter\", \"uid\": \"139bba02-c028-49f6-b00b-04e735d92d1b\"}, {\"line\": {\"color\": \"rgba(55, 128, 191, 1.0)\", \"dash\": \"solid\", \"shape\": \"linear\", \"width\": 1.3}, \"mode\": \"lines\", \"name\": \"test\", \"text\": \"\", \"x\": [2, 7, 12, 17, 22, 27, 32, 37, 42, 47, 52, 57, 62, 67, 72, 77, 82, 87, 92, 97, 102, 107, 112, 117], \"y\": [3.1266532742259465, 1.1942576495675767, 0.9180743376389193, 0.9161827961972229, 0.9269315082861338, 0.9244273127753303, 0.913348017621145, 0.9212995594713654, 0.9264757709251101, 0.918612334801762, 0.9107929515418502, 0.9105506607929514, 0.9057268722466958, 0.9281497797356827, 0.9298017621145372, 0.9258370044052862, 0.9185242290748897, 0.9239207048458147, 0.9144493392070482, 0.9110352422907487, 0.9281718061674008, 0.9159691629955945, 0.918942731277533, 0.9178414096916298], \"type\": \"scatter\", \"uid\": \"41ac088d-ff02-480a-9165-4915dfe80cd8\"}], {\"legend\": {\"bgcolor\": \"#F5F6F9\", \"font\": {\"color\": \"#4D5663\"}}, \"paper_bgcolor\": \"#F5F6F9\", \"plot_bgcolor\": \"#F5F6F9\", \"title\": {\"font\": {\"color\": \"#4D5663\"}}, \"xaxis\": {\"gridcolor\": \"#E1E5ED\", \"showgrid\": true, \"tickfont\": {\"color\": \"#4D5663\"}, \"title\": {\"text\": \"# Max depth\", \"font\": {\"color\": \"#4D5663\"}}, \"zerolinecolor\": \"#E1E5ED\"}, \"yaxis\": {\"gridcolor\": \"#E1E5ED\", \"showgrid\": true, \"tickfont\": {\"color\": \"#4D5663\"}, \"title\": {\"text\": \"MSE\", \"font\": {\"color\": \"#4D5663\"}}, \"zerolinecolor\": \"#E1E5ED\"}}, {\"showLink\": true, \"linkText\": \"Export to plot.ly\", \"plotlyServerURL\": \"https://plot.ly\"}); \n",
       "}\n",
       "});</script><script type=\"text/javascript\">window.addEventListener(\"resize\", function(){if (document.getElementById(\"5ed9ce18-fb77-4478-b0f8-b5aae1b4578b\")) {window._Plotly.Plots.resize(document.getElementById(\"5ed9ce18-fb77-4478-b0f8-b5aae1b4578b\"));};})</script>"
      ]
     },
     "metadata": {},
     "output_type": "display_data"
    }
   ],
   "source": [
    "preds = pd.DataFrame()\n",
    "preds['train'] = train_preds\n",
    "preds['test'] = test_preds\n",
    "preds['max_depth'] = [i for i in range(2, 120, 5)]\n",
    "preds = preds.set_index(['max_depth'])\n",
    "\n",
    "preds.iplot(xTitle='Max depth', yTitle='MSE')"
   ]
  },
  {
   "cell_type": "code",
   "execution_count": 87,
   "metadata": {},
   "outputs": [
    {
     "name": "stdout",
     "output_type": "stream",
     "text": [
      "MAE with tweaked sklearn Random Forest Tree:  0.865165198238\n"
     ]
    }
   ],
   "source": [
    "# Creating the final RFT\n",
    "from sklearn.ensemble import RandomForestRegressor\n",
    "final_rf = RandomForestRegressor(max_depth=80, n_estimators=100)\n",
    "final_rf.fit(train_X, train_y)\n",
    "final_model_preds = final_rf.predict(test_X)\n",
    "print(\"MAE with tweaked sklearn Random Forest Tree: \", mean_absolute_error(final_model_preds, test_y))"
   ]
  },
  {
   "cell_type": "code",
   "execution_count": null,
   "metadata": {},
   "outputs": [],
   "source": []
  }
 ],
 "metadata": {
  "kernelspec": {
   "display_name": "Python 3",
   "language": "python",
   "name": "python3"
  },
  "language_info": {
   "codemirror_mode": {
    "name": "ipython",
    "version": 3
   },
   "file_extension": ".py",
   "mimetype": "text/x-python",
   "name": "python",
   "nbconvert_exporter": "python",
   "pygments_lexer": "ipython3",
   "version": "3.6.1"
  }
 },
 "nbformat": 4,
 "nbformat_minor": 2
}
